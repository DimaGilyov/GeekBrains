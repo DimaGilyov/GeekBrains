{
 "cells": [
  {
   "cell_type": "markdown",
   "id": "cb402eec",
   "metadata": {},
   "source": [
    "1)Можно ли отобрать наиболее значимые признаки с помощью PCA? Ответ объясните."
   ]
  },
  {
   "cell_type": "markdown",
   "id": "e10a6b18",
   "metadata": {},
   "source": [
    "Алгоритм реализации метода главных компонент"
   ]
  },
  {
   "cell_type": "markdown",
   "id": "614cc583",
   "metadata": {},
   "source": [
    "- найти собственные значения матрицы $X^{T}X$;\n",
    "- отобрать $d$ максимальных;\n",
    "- составить матрицу $W^{T}$, столбцы которой будут являться собственными векторами, соответствующими отобранным собственным значениям, расположенным в порядке убывания;\n",
    "- получить новую матрицу \"объекты-признаки\", умножив исходную матрицу $X$ на матрицу весов $W$:\n",
    "\n",
    "$$Z=XW^T.$$"
   ]
  },
  {
   "cell_type": "markdown",
   "id": "74a00684",
   "metadata": {},
   "source": [
    "Отобрать наиболее значимые признаки по вектору весов w"
   ]
  },
  {
   "cell_type": "code",
   "execution_count": null,
   "id": "72b8203f",
   "metadata": {},
   "outputs": [],
   "source": []
  }
 ],
 "metadata": {
  "kernelspec": {
   "display_name": "Python 3 (ipykernel)",
   "language": "python",
   "name": "python3"
  },
  "language_info": {
   "codemirror_mode": {
    "name": "ipython",
    "version": 3
   },
   "file_extension": ".py",
   "mimetype": "text/x-python",
   "name": "python",
   "nbconvert_exporter": "python",
   "pygments_lexer": "ipython3",
   "version": "3.9.2"
  }
 },
 "nbformat": 4,
 "nbformat_minor": 5
}
