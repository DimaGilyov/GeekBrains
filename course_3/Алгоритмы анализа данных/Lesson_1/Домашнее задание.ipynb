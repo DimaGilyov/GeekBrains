{
 "cells": [
  {
   "cell_type": "markdown",
   "id": "c2824df9",
   "metadata": {},
   "source": [
    "# Урок 1. Алгоритм линейной регрессии. Градиентный спуск"
   ]
  },
  {
   "cell_type": "code",
   "execution_count": 14,
   "id": "d6e64df5",
   "metadata": {},
   "outputs": [],
   "source": [
    "import numpy as np"
   ]
  },
  {
   "cell_type": "code",
   "execution_count": 15,
   "id": "2de286e6",
   "metadata": {},
   "outputs": [],
   "source": [
    "def calc_mse(y, y_pred):\n",
    "    err = np.mean((y - y_pred)**2)\n",
    "    return err\n",
    "\n",
    "def calc_mae(y, y_pred):\n",
    "    err = np.mean(np.abs(y - y_pred))\n",
    "    return err"
   ]
  },
  {
   "cell_type": "code",
   "execution_count": 16,
   "id": "d0ea8f3e",
   "metadata": {},
   "outputs": [],
   "source": [
    "X = np.array([[1, 1, 1, 1, 1, 1, 1, 1, 1, 1],   # для умножения на intercept\n",
    "              [1, 1, 2, 1, 3, 0, 5, 10, 1, 2]]).T # стаж репетитора\n",
    "\n",
    "# средний балл ЕГЭ (целевая переменная)\n",
    "y = [45, 55, 50, 59, 65, 35, 75, 80, 50, 60]"
   ]
  },
  {
   "cell_type": "markdown",
   "id": "e94ffa03",
   "metadata": {},
   "source": [
    "1) Проведите небольшое исследование алгоритма градиентного спуска на данных из урока. Оцените влияние значений скорости обучения (eta) и количества итераций на ошибку алгоритма. Как связаны эти два гиперпараметра между собой? Подберите скорость обучения и количество итераций до совпадения ответов алгоритма с результатами МНК. Как можно ускорить процесс вычисления весов?"
   ]
  },
  {
   "cell_type": "code",
   "execution_count": 17,
   "id": "b336df57",
   "metadata": {},
   "outputs": [
    {
     "name": "stdout",
     "output_type": "stream",
     "text": [
      "0 [1.1102 0.84  ] 3173.15\n",
      "100 [ 7.43515582 10.71754582] 899.5990444359252\n",
      "200 [11.44993589 10.49282195] 735.5540619653672\n",
      "300 [14.98921624  9.8634316 ] 606.0048772266812\n",
      "400 [18.17511588  9.27626113] 500.7989288428639\n",
      "500 [21.04606457  8.74617136] 415.355423398327\n",
      "600 [23.63334499  8.26841272] 345.9620646005472\n",
      "700 [25.96499229  7.83785632] 289.6039104863001\n",
      "800 [28.06626432  7.44984037] 243.83236130353217\n",
      "900 [29.95992301  7.10016181] 206.65877484533297\n",
      "1000 [31.66648131  6.78503276] 176.46806566379882\n"
     ]
    }
   ],
   "source": [
    "n = X.shape[0]\n",
    "eta = 1e-3\n",
    "iterations = 1001\n",
    "w = np.array([1, 0.5])\n",
    "\n",
    "for i in range(iterations):\n",
    "    y_pred = np.dot(X, w)\n",
    "    err = calc_mse(y, y_pred)\n",
    "    for j in range(w.shape[0]):\n",
    "        w[j] -= eta * (1/n * 2 * np.sum(X[:,j] * (y_pred - y)))\n",
    "    if i % 100 == 0:\n",
    "        print(i, w, err) # МНК: array([47.23214286,  3.91071429]) 45.937499999999986"
   ]
  },
  {
   "cell_type": "markdown",
   "id": "6415fbd2",
   "metadata": {},
   "source": [
    "2) В этом коде мы избавляемся от итераций по весам, но тут есть ошибка, исправьте ее:"
   ]
  },
  {
   "cell_type": "code",
   "execution_count": 18,
   "id": "f3e54f1f",
   "metadata": {},
   "outputs": [
    {
     "name": "stdout",
     "output_type": "stream",
     "text": [
      "0 [1.4502 0.9502] 3173.15\n",
      "100 [11.6740207 11.1740207] 737.5884748924025\n",
      "200 [11.82000082 11.32000082] 737.0919281764903\n",
      "300 [11.82208519 11.32208519] 737.0918269437198\n",
      "400 [11.82211495 11.32211495] 737.0918269230813\n",
      "500 [11.82211538 11.32211538] 737.0918269230768\n",
      "600 [11.82211538 11.32211538] 737.0918269230768\n",
      "700 [11.82211538 11.32211538] 737.091826923077\n",
      "800 [11.82211538 11.32211538] 737.0918269230768\n",
      "900 [11.82211538 11.32211538] 737.0918269230768\n",
      "1000 [11.82211538 11.32211538] 737.0918269230768\n"
     ]
    }
   ],
   "source": [
    "w = np.array([1, 0.5])\n",
    "iterations = 1001\n",
    "for i in range(iterations):\n",
    "    y_pred = np.dot(X, w)\n",
    "    err = calc_mse(y, y_pred)\n",
    "    w -= (eta * (1/n * 2 * np.sum(X.T * (y_pred - y)))) # ошибка!\n",
    "    if i % 100 == 0:\n",
    "        print(i, w, err) # [47.23214286  3.91071429] 45.937499999999986"
   ]
  },
  {
   "cell_type": "markdown",
   "id": "17c454d1",
   "metadata": {},
   "source": [
    "3) Вместо того, чтобы задавать количество итераций, задайте условие остановки алгоритма - когда ошибка за итерацию начинает изменяться ниже определенного порога.\n",
    "\n",
    "Сколько нужно сделать итераций, если установить допустимое отклонение mse за одну итерацию в размере diff=1e-6, а значение eta=1e-2?"
   ]
  },
  {
   "cell_type": "code",
   "execution_count": 19,
   "id": "86e858eb",
   "metadata": {},
   "outputs": [],
   "source": [
    "w = np.array([1, 0.5])\n",
    "diff = 1e-6\n",
    "eta = 1e-2"
   ]
  },
  {
   "cell_type": "code",
   "execution_count": null,
   "id": "ae13a7b9",
   "metadata": {},
   "outputs": [],
   "source": []
  }
 ],
 "metadata": {
  "kernelspec": {
   "display_name": "Python 3 (ipykernel)",
   "language": "python",
   "name": "python3"
  },
  "language_info": {
   "codemirror_mode": {
    "name": "ipython",
    "version": 3
   },
   "file_extension": ".py",
   "mimetype": "text/x-python",
   "name": "python",
   "nbconvert_exporter": "python",
   "pygments_lexer": "ipython3",
   "version": "3.9.2"
  }
 },
 "nbformat": 4,
 "nbformat_minor": 5
}
